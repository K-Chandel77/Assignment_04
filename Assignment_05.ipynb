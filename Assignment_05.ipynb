{
  "cells": [
    {
      "cell_type": "markdown",
      "metadata": {
        "id": "view-in-github",
        "colab_type": "text"
      },
      "source": [
        "<a href=\"https://colab.research.google.com/github/K-Chandel77/Assignment_04/blob/master/Assignment_05.ipynb\" target=\"_parent\"><img src=\"https://colab.research.google.com/assets/colab-badge.svg\" alt=\"Open In Colab\"/></a>"
      ]
    },
    {
      "cell_type": "code",
      "source": [
        "student_marks = {\n",
        "    \"Ketan\": 78,\n",
        "    \"Pradeep\": 82,\n",
        "    \"Anubhav\": 92\n",
        "}\n",
        "\n",
        "name = input(\"Enter the student's name: \")\n",
        "\n",
        "if name in student_marks:\n",
        "    print(f\"{name}'s marks: {student_marks[name]}\")\n",
        "else:\n",
        "    print(\"Student not found.\")"
      ],
      "metadata": {
        "id": "sepQJdfPEd5U",
        "outputId": "c9c4f59f-688c-485b-c720-d50d09d9e772",
        "colab": {
          "base_uri": "https://localhost:8080/"
        }
      },
      "execution_count": 1,
      "outputs": [
        {
          "output_type": "stream",
          "name": "stdout",
          "text": [
            "Enter the student's name: Anubhav\n",
            "Anubhav's marks: 92\n"
          ]
        }
      ]
    }
  ],
  "metadata": {
    "colab": {
      "name": "Welcome To Colab",
      "toc_visible": true,
      "provenance": [],
      "include_colab_link": true
    },
    "kernelspec": {
      "display_name": "Python 3",
      "name": "python3"
    }
  },
  "nbformat": 4,
  "nbformat_minor": 0
}